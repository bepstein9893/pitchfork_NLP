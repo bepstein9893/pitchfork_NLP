{
 "cells": [
  {
   "cell_type": "markdown",
   "id": "ff3371c4",
   "metadata": {},
   "source": [
    "### Import Dependencies"
   ]
  },
  {
   "cell_type": "code",
   "execution_count": 375,
   "id": "52d33b66",
   "metadata": {},
   "outputs": [],
   "source": [
    "import pandas as pd\n",
    "import numpy as np\n",
    "import random\n",
    "import matplotlib.pyplot as plt\n",
    "import seaborn as sns\n",
    "\n",
    "from sklearn.model_selection import train_test_split\n",
    "from sklearn.preprocessing import MinMaxScaler\n",
    "from sklearn.model_selection import RandomizedSearchCV\n",
    "from sklearn.model_selection import GridSearchCV\n",
    "from sklearn.metrics import make_scorer\n",
    "from sklearn.metrics import mean_squared_error"
   ]
  },
  {
   "cell_type": "markdown",
   "id": "80bda94b",
   "metadata": {},
   "source": [
    "### Load Data"
   ]
  },
  {
   "cell_type": "code",
   "execution_count": 376,
   "id": "888d87ef",
   "metadata": {
    "scrolled": true
   },
   "outputs": [
    {
     "data": {
      "text/html": [
       "<div>\n",
       "<style scoped>\n",
       "    .dataframe tbody tr th:only-of-type {\n",
       "        vertical-align: middle;\n",
       "    }\n",
       "\n",
       "    .dataframe tbody tr th {\n",
       "        vertical-align: top;\n",
       "    }\n",
       "\n",
       "    .dataframe thead th {\n",
       "        text-align: right;\n",
       "    }\n",
       "</style>\n",
       "<table border=\"1\" class=\"dataframe\">\n",
       "  <thead>\n",
       "    <tr style=\"text-align: right;\">\n",
       "      <th></th>\n",
       "      <th>album_title</th>\n",
       "      <th>artists</th>\n",
       "      <th>genres</th>\n",
       "      <th>authors</th>\n",
       "      <th>best_new</th>\n",
       "      <th>publish_datetime</th>\n",
       "      <th>review_link</th>\n",
       "      <th>article</th>\n",
       "      <th>score</th>\n",
       "      <th>neg</th>\n",
       "      <th>neu</th>\n",
       "      <th>pos</th>\n",
       "      <th>comp</th>\n",
       "      <th>polarity</th>\n",
       "      <th>subjectivity</th>\n",
       "      <th>flair</th>\n",
       "      <th>flair_pos</th>\n",
       "      <th>flair_neg</th>\n",
       "    </tr>\n",
       "  </thead>\n",
       "  <tbody>\n",
       "    <tr>\n",
       "      <th>0</th>\n",
       "      <td>hypochondriac</td>\n",
       "      <td>brakence</td>\n",
       "      <td>ROCK</td>\n",
       "      <td>H.D. ANGEL</td>\n",
       "      <td>0</td>\n",
       "      <td>2022-12-15T05:01:00</td>\n",
       "      <td>https://pitchfork.com/reviews/albums/brakence-...</td>\n",
       "      <td>brakence’s songs surge with combative angst an...</td>\n",
       "      <td>7.3</td>\n",
       "      <td>0.082</td>\n",
       "      <td>0.819</td>\n",
       "      <td>0.099</td>\n",
       "      <td>0.9583</td>\n",
       "      <td>0.066750</td>\n",
       "      <td>0.463421</td>\n",
       "      <td>-0.994300</td>\n",
       "      <td>0.005700</td>\n",
       "      <td>0.994300</td>\n",
       "    </tr>\n",
       "    <tr>\n",
       "      <th>1</th>\n",
       "      <td>Call and Response</td>\n",
       "      <td>Stefan Goldmann</td>\n",
       "      <td>ELECTRONIC</td>\n",
       "      <td>PHILIP SHERBURNE</td>\n",
       "      <td>0</td>\n",
       "      <td>2022-12-15T05:00:00</td>\n",
       "      <td>https://pitchfork.com/reviews/albums/stefan-go...</td>\n",
       "      <td>In 1947, Bill Putnam discovered the future of ...</td>\n",
       "      <td>6.8</td>\n",
       "      <td>0.047</td>\n",
       "      <td>0.901</td>\n",
       "      <td>0.052</td>\n",
       "      <td>0.6675</td>\n",
       "      <td>0.059063</td>\n",
       "      <td>0.466841</td>\n",
       "      <td>0.999089</td>\n",
       "      <td>0.999089</td>\n",
       "      <td>0.000911</td>\n",
       "    </tr>\n",
       "  </tbody>\n",
       "</table>\n",
       "</div>"
      ],
      "text/plain": [
       "         album_title          artists      genres           authors  best_new  \\\n",
       "0      hypochondriac         brakence        ROCK        H.D. ANGEL         0   \n",
       "1  Call and Response  Stefan Goldmann  ELECTRONIC  PHILIP SHERBURNE         0   \n",
       "\n",
       "      publish_datetime                                        review_link  \\\n",
       "0  2022-12-15T05:01:00  https://pitchfork.com/reviews/albums/brakence-...   \n",
       "1  2022-12-15T05:00:00  https://pitchfork.com/reviews/albums/stefan-go...   \n",
       "\n",
       "                                             article  score    neg    neu  \\\n",
       "0  brakence’s songs surge with combative angst an...    7.3  0.082  0.819   \n",
       "1  In 1947, Bill Putnam discovered the future of ...    6.8  0.047  0.901   \n",
       "\n",
       "     pos    comp  polarity  subjectivity     flair  flair_pos  flair_neg  \n",
       "0  0.099  0.9583  0.066750      0.463421 -0.994300   0.005700   0.994300  \n",
       "1  0.052  0.6675  0.059063      0.466841  0.999089   0.999089   0.000911  "
      ]
     },
     "execution_count": 376,
     "metadata": {},
     "output_type": "execute_result"
    }
   ],
   "source": [
    "reviews_full_dataset = pd.read_csv('data/reviews_sentiment.csv')\n",
    "reviews_full_dataset.head(2)"
   ]
  },
  {
   "cell_type": "markdown",
   "id": "5555c174",
   "metadata": {},
   "source": [
    "### Train-Test Split"
   ]
  },
  {
   "cell_type": "code",
   "execution_count": 377,
   "id": "0cd384f9",
   "metadata": {},
   "outputs": [],
   "source": [
    "train_set, test_set = train_test_split(reviews_full_dataset, test_size=0.2, random_state=0, shuffle=True)"
   ]
  },
  {
   "cell_type": "markdown",
   "id": "ebf1d176",
   "metadata": {},
   "source": [
    "### Pre-processing & Feature Engineering: Train Set"
   ]
  },
  {
   "cell_type": "code",
   "execution_count": 378,
   "id": "4a2ea767",
   "metadata": {},
   "outputs": [],
   "source": [
    "# Parse genres: creating dummy variables for each genre (an album can have more than one genre)\n",
    "train_set = train_set.copy()\n",
    "train_set['genres'].fillna('other', inplace=True)\n",
    "train_set['genres'] = train_set['genres'].apply(lambda x: x.lower()\\\n",
    "                                                .replace('pop/r&b', 'pop_rnb')\\\n",
    "                                                .replace('folk/country', 'folk_country')\n",
    "                                                .replace('+1 more', 'one_more'))\n",
    "                                                # albums w/ 3+ genres\n",
    "genres = []\n",
    "for unique_genres in list(train_set['genres'].unique()):\n",
    "    for genre in unique_genres.split(' / '):\n",
    "        if genre not in genres:\n",
    "            genres.append(genre)\n",
    "try:\n",
    "    genres.remove('one_more') # Remove this \"genre\" (n=2)\n",
    "except ValueError:\n",
    "    pass\n",
    "for genre in genres:\n",
    "    train_set[genre] = train_set['genres'].apply(lambda x: 1 if genre in x else 0)"
   ]
  },
  {
   "cell_type": "code",
   "execution_count": 379,
   "id": "9a13b8bb",
   "metadata": {},
   "outputs": [],
   "source": [
    "# Remove outliers \n",
    "score_std = np.std(train_set['score'])\n",
    "score_mean = train_set['score'].mean()\n",
    "score_high = score_mean + score_std*3\n",
    "score_low = score_mean - score_std*3\n",
    "\n",
    "train_set = train_set[(train_set['score']>score_low)&(train_set['score']<score_high)]"
   ]
  },
  {
   "cell_type": "code",
   "execution_count": 380,
   "id": "11246292",
   "metadata": {},
   "outputs": [],
   "source": [
    "# Add author average sentiments as a feature\n",
    "author_averages = train_set.groupby('authors')[\n",
    "    ['neg', 'neu', 'pos', 'comp', 'polarity', \n",
    "     'subjectivity', 'flair', 'flair_pos', 'flair_neg']].mean().add_prefix('author_').reset_index()\n",
    "\n",
    "train_set = train_set.merge(\n",
    "    author_averages,\n",
    "    on='authors',\n",
    "    how='left'\n",
    ")"
   ]
  },
  {
   "cell_type": "code",
   "execution_count": 381,
   "id": "bc56f6d3",
   "metadata": {},
   "outputs": [],
   "source": [
    "# Seperate X and y variables\n",
    "features= [\n",
    "    'neg', 'neu', 'pos', 'comp', # NLTK VADER scores\n",
    "    'author_neg', 'author_neu', 'author_pos', 'author_comp',\n",
    "    'polarity', 'subjectivity', # TextBlob scores\n",
    "    'author_polarity', 'author_subjectivity', \n",
    "    'flair', 'flair_pos', 'flair_neg', # Flair scores\n",
    "    'author_flair', 'author_flair_pos', 'author_flair_neg',\n",
    "    'rock', 'electronic', 'rap', 'experimental', 'jazz', # Genres\n",
    "    'pop_rnb', 'metal', 'folk_country', 'other', 'global'\n",
    "]\n",
    "\n",
    "X_train = train_set[features].copy()\n",
    "y_train = train_set['score'].copy()"
   ]
  },
  {
   "cell_type": "markdown",
   "id": "4ac97e37",
   "metadata": {},
   "source": [
    "### Build & Cross-validate Models"
   ]
  },
  {
   "cell_type": "markdown",
   "id": "faeeb23d",
   "metadata": {},
   "source": [
    "#### Random Forest Regressor"
   ]
  },
  {
   "cell_type": "code",
   "execution_count": 382,
   "id": "bf1ba2c6",
   "metadata": {},
   "outputs": [],
   "source": [
    "from sklearn.ensemble import RandomForestRegressor"
   ]
  },
  {
   "cell_type": "code",
   "execution_count": 383,
   "id": "611c2573",
   "metadata": {},
   "outputs": [
    {
     "name": "stdout",
     "output_type": "stream",
     "text": [
      "Fitting 5 folds for each of 20 candidates, totalling 100 fits\n",
      "Best RMSE: 0.6509594767176896\n",
      "Best Hyperparameters: {'random_state': 0, 'n_estimators': 1000, 'min_samples_split': 5, 'min_samples_leaf': 1, 'max_features': 'auto', 'max_depth': 9, 'bootstrap': True}\n"
     ]
    }
   ],
   "source": [
    "param_grid = { \n",
    "    'n_estimators': [250, 500, 750, 1000],\n",
    "    'max_depth': [2, 3, 4, 5, 6, 7, 8, 9, 10, None],\n",
    "    'min_samples_leaf': [1, 2, 4],\n",
    "    'min_samples_split': [2, 5, 10],\n",
    "    'max_features': ['sqrt', 'log2', 'auto'],\n",
    "    'bootstrap': [True, False],\n",
    "    'random_state' : [0]\n",
    "}\n",
    "                          \n",
    "rf_cv = RandomizedSearchCV(\n",
    "    estimator=RandomForestRegressor(),\n",
    "    n_iter=20,\n",
    "    param_distributions=param_grid, \n",
    "    cv=5, \n",
    "    scoring='neg_mean_squared_error',\n",
    "    verbose=True,\n",
    "    random_state=0)\n",
    "\n",
    "rf_cv.fit(X_train, y_train)\n",
    "\n",
    "print(f'Best RMSE: {np.sqrt(-rf_cv.best_score_)}')\n",
    "print(f'Best Hyperparameters: {rf_cv.best_params_}')"
   ]
  },
  {
   "cell_type": "markdown",
   "id": "6cb0887a",
   "metadata": {},
   "source": [
    "#### XGBoost Regressor"
   ]
  },
  {
   "cell_type": "code",
   "execution_count": 384,
   "id": "91718017",
   "metadata": {},
   "outputs": [],
   "source": [
    "from xgboost.sklearn import XGBRegressor"
   ]
  },
  {
   "cell_type": "code",
   "execution_count": 385,
   "id": "af9a23d4",
   "metadata": {},
   "outputs": [
    {
     "name": "stdout",
     "output_type": "stream",
     "text": [
      "Fitting 5 folds for each of 20 candidates, totalling 100 fits\n",
      "Best RMSE: 0.6564412381620857\n",
      "Best Hyperparameters: {'random_state': 0, 'n_estimators': 250, 'max_depth': 3, 'learning_rate': 0.1, 'gamma': 0.1, 'colsample_bytree': 0.1}\n"
     ]
    }
   ],
   "source": [
    "param_grid = { \n",
    "    'n_estimators': [250, 500, 750, 1000],\n",
    "    'max_depth': [2, 3, 4, 5, 6, 7, 8, 9, 10, None],\n",
    "    'learning_rate': [0.03, 0.001, 0.01, 0.1, 0.2, 0.3], \n",
    "    'colsample_bytree': [i/10.0 for i in range(1, 3)],\n",
    "    'gamma': [i/10.0 for i in range(3)],\n",
    "    'random_state': [0]\n",
    "}\n",
    "\n",
    "xgb_cv = RandomizedSearchCV(\n",
    "    estimator=XGBRegressor(),\n",
    "    n_iter=20,\n",
    "    param_distributions=param_grid, \n",
    "    cv=5, \n",
    "    scoring='neg_mean_squared_error',\n",
    "    verbose=True,\n",
    "    random_state=0)\n",
    "\n",
    "xgb_cv.fit(X_train, y_train)\n",
    "\n",
    "print(f'Best RMSE: {np.sqrt(-xgb_cv.best_score_)}')\n",
    "print(f'Best Hyperparameters: {xgb_cv.best_params_}')"
   ]
  },
  {
   "cell_type": "markdown",
   "id": "f5ecd7c8",
   "metadata": {},
   "source": [
    "#### CatBoost Regressor"
   ]
  },
  {
   "cell_type": "code",
   "execution_count": 386,
   "id": "dd633c1b",
   "metadata": {},
   "outputs": [],
   "source": [
    "from catboost import CatBoostRegressor"
   ]
  },
  {
   "cell_type": "code",
   "execution_count": 387,
   "id": "e401866e",
   "metadata": {},
   "outputs": [
    {
     "name": "stdout",
     "output_type": "stream",
     "text": [
      "Fitting 5 folds for each of 20 candidates, totalling 100 fits\n",
      "Best RMSE: 0.64037337380257\n",
      "Best Hyperparameters: {'silent': True, 'random_state': 0, 'n_estimators': 1000, 'learning_rate': 0.03, 'l2_leaf_reg': 5, 'depth': 2, 'border_count': 50}\n"
     ]
    }
   ],
   "source": [
    "param_grid = { \n",
    "    'n_estimators': [250, 500, 750, 1000],\n",
    "    'depth': [2, 3, 4, 5, 6, 7, 8, 9, 10, None],\n",
    "    'learning_rate': [0.03, 0.001, 0.01, 0.1, 0.2, 0.3], \n",
    "    'l2_leaf_reg': [3, 1, 5, 10, 100],\n",
    "    'border_count': [32, 5, 10, 20, 50, 100, 200],\n",
    "    'random_state': [0],\n",
    "    'silent': [True]\n",
    "}\n",
    "\n",
    "cat_cv = RandomizedSearchCV(\n",
    "    estimator=CatBoostRegressor(),\n",
    "    n_iter=20,\n",
    "    param_distributions=param_grid, \n",
    "    cv=5, \n",
    "    scoring='neg_mean_squared_error',\n",
    "    verbose=True,\n",
    "    random_state=0)\n",
    "\n",
    "cat_cv.fit(X_train, y_train)\n",
    "\n",
    "print(f'Best RMSE: {np.sqrt(-cat_cv.best_score_)}')\n",
    "print(f'Best Hyperparameters: {cat_cv.best_params_}')"
   ]
  },
  {
   "cell_type": "markdown",
   "id": "7787eea7",
   "metadata": {},
   "source": [
    "#### Ensemble Regressor"
   ]
  },
  {
   "cell_type": "code",
   "execution_count": 388,
   "id": "d1de02ea",
   "metadata": {},
   "outputs": [],
   "source": [
    "from sklearn.ensemble import VotingRegressor"
   ]
  },
  {
   "cell_type": "code",
   "execution_count": 389,
   "id": "7e75f863",
   "metadata": {},
   "outputs": [
    {
     "name": "stdout",
     "output_type": "stream",
     "text": [
      "Fitting 5 folds for each of 14 candidates, totalling 70 fits\n",
      "Best RMSE: 0.6388685732071409\n",
      "Best Hyperparameters: {'weights': (1, 1, 2)}\n"
     ]
    }
   ],
   "source": [
    "param_grid = {\n",
    "    'weights': [\n",
    "        (1,1,1), (0,1,1), (1,0,1), (1,1,0),\n",
    "        (2,1,1), (2,2,1), (1,2,1), (1,2,2), \n",
    "        (1,1,2), (1,2,1), (1,1,2),\n",
    "        (1,0,0), (0,1,0), (0,0,1)\n",
    "    ]\n",
    "}\n",
    "\n",
    "ensemble = VotingRegressor([\n",
    "    ('rf', rf_cv.best_estimator_), \n",
    "    ('xgb', xgb_cv.best_estimator_),\n",
    "    ('cat', cat_cv.best_estimator_),\n",
    "])\n",
    "\n",
    "ensemble_cv = GridSearchCV(\n",
    "    estimator=ensemble,\n",
    "    param_grid=param_grid, \n",
    "    cv=5, \n",
    "    scoring='neg_mean_squared_error',\n",
    "    verbose=True)\n",
    "\n",
    "ensemble_cv.fit(X_train, y_train)\n",
    "\n",
    "print(f'Best RMSE: {np.sqrt(-ensemble_cv.best_score_)}')\n",
    "print(f'Best Hyperparameters: {ensemble_cv.best_params_}')"
   ]
  },
  {
   "cell_type": "markdown",
   "id": "eac62a55",
   "metadata": {},
   "source": [
    "### Pre-processing & Feature Engineering: Test Set"
   ]
  },
  {
   "cell_type": "code",
   "execution_count": 391,
   "id": "87a29d02",
   "metadata": {},
   "outputs": [],
   "source": [
    "# Parse genres: creating dummy variables for each genre (an album can have more than one genre)\n",
    "test_set = test_set.copy()\n",
    "test_set['genres'].fillna('other', inplace=True)\n",
    "test_set['genres'] = test_set['genres'].apply(lambda x: x.lower()\\\n",
    "                                                .replace('pop/r&b', 'pop_rnb')\\\n",
    "                                                .replace('folk/country', 'folk_country')\n",
    "                                                .replace('+1 more', 'one_more'))\n",
    "                                                # albums w/ 3+ genres\n",
    "genres = []\n",
    "for unique_genres in list(test_set['genres'].unique()):\n",
    "    for genre in unique_genres.split(' / '):\n",
    "        if genre not in genres:\n",
    "            genres.append(genre)\n",
    "try:\n",
    "    genres.remove('one_more') # Remove this \"genre\" (n=2)\n",
    "except ValueError:\n",
    "    pass\n",
    "for genre in genres:\n",
    "    test_set[genre] = test_set['genres'].apply(lambda x: 1 if genre in x else 0)"
   ]
  },
  {
   "cell_type": "code",
   "execution_count": 392,
   "id": "7a6eb65d",
   "metadata": {},
   "outputs": [],
   "source": [
    "# Remove outliers, using thresholds from train set\n",
    "test_set = test_set[(test_set['score']>score_low)&(test_set['score']<score_high)]"
   ]
  },
  {
   "cell_type": "code",
   "execution_count": 396,
   "id": "4f410dd7",
   "metadata": {},
   "outputs": [],
   "source": [
    "# Add author average sentiments as a featurel, and use whole data set as to incorporate averages from train data\n",
    "author_averages = reviews_full_dataset.groupby('authors')[\n",
    "    ['neg', 'neu', 'pos', 'comp', 'polarity', \n",
    "     'subjectivity', 'flair', 'flair_pos', 'flair_neg']].mean().add_prefix('author_').reset_index()\n",
    "\n",
    "test_set = test_set.merge(\n",
    "    author_averages,\n",
    "    on='authors',\n",
    "    how='left'\n",
    ")"
   ]
  },
  {
   "cell_type": "code",
   "execution_count": 397,
   "id": "2a54b961",
   "metadata": {},
   "outputs": [],
   "source": [
    "# Seperate X and y variables\n",
    "features= [\n",
    "    'neg', 'neu', 'pos', 'comp', # NLTK VADER scores\n",
    "    'author_neg', 'author_neu', 'author_pos', 'author_comp',\n",
    "    'polarity', 'subjectivity', # TextBlob scores\n",
    "    'author_polarity', 'author_subjectivity', \n",
    "    'flair', 'flair_pos', 'flair_neg', # Flair scores\n",
    "    'author_flair', 'author_flair_pos', 'author_flair_neg',\n",
    "    'rock', 'electronic', 'rap', 'experimental', 'jazz', # Genres\n",
    "    'pop_rnb', 'metal', 'folk_country', 'other', 'global'\n",
    "]\n",
    "\n",
    "X_test = test_set[features].copy()\n",
    "y_test = test_set['score'].copy()"
   ]
  },
  {
   "cell_type": "markdown",
   "id": "3f79a9a3",
   "metadata": {},
   "source": [
    "### Test Final Model"
   ]
  },
  {
   "cell_type": "code",
   "execution_count": 398,
   "id": "e2f16a4e",
   "metadata": {},
   "outputs": [
    {
     "data": {
      "text/plain": [
       "0.6751216101421855"
      ]
     },
     "execution_count": 398,
     "metadata": {},
     "output_type": "execute_result"
    }
   ],
   "source": [
    "y_pred = ensemble_cv.best_estimator_.predict(X_test)\n",
    "mean_squared_error(y_test, y_pred, squared=False)"
   ]
  },
  {
   "cell_type": "code",
   "execution_count": 406,
   "id": "fede01d7",
   "metadata": {},
   "outputs": [
    {
     "data": {
      "image/png": "[encoded data removed]",
      "text/plain": [
       "<Figure size 1080x360 with 2 Axes>"
      ]
     },
     "metadata": {
      "needs_background": "light"
     },
     "output_type": "display_data"
    }
   ],
   "source": [
    "fig, axs = plt.subplots(1, 2, figsize=(15,5))\n",
    "palette = sns.color_palette('BuPu_r')\n",
    "\n",
    "sns.scatterplot(x=y_test, y=y_pred, ax=axs[0], color=palette[0])\n",
    "sns.scatterplot(x=y_test, y=y_pred, ax=axs[1], color=palette[2])\n",
    "axs[1].plot([min(y_test.min(), y_pred.min()), max(y_test.max(), y_pred.max())], \n",
    "        [min(y_test.min(), y_pred.min()), max(y_test.max(), y_pred.max())], color=palette[4])\n",
    "\n",
    "\n",
    "axs[0].set_xlabel('True Pitchfork Score')\n",
    "axs[0].set_ylabel('Predicted Pitchfork Score')\n",
    "\n",
    "axs[1].set_xlabel('True Pitchfork Score')\n",
    "axs[1].set_ylabel('Predicted Pitchfork Score')\n",
    "\n",
    "for ax in axs:\n",
    "    ax.yaxis.grid(which='major', linewidth=.25)\n",
    "    ax.spines['top'].set_visible(False)\n",
    "    ax.spines['right'].set_visible(False)\n",
    "    ax.patch.set_alpha(0.0)\n",
    "    \n",
    "plt.show()"
   ]
  },
  {
   "cell_type": "markdown",
   "id": "0c740be9",
   "metadata": {},
   "source": [
    "***Observations***\n",
    "\n",
    "The test RMSE result was ~0.68, and it does appear as if the predictions and the true values trend positively. \n",
    "\n",
    "However, taking a deeper look, the model appears to be optimizing its loss function by tending to predict values near the center of the distribution. As we have noticed before, Pitchfork Review Scores tend to cluster near ~7.5, with little variation. \n",
    "\n",
    "That being said, the model tends to predict higher scores when the true value is greater than the central tendency, as well as predict lower scores when the true value is lower than the central tendency."
   ]
  }
 ],
 "metadata": {
  "kernelspec": {
   "display_name": "nlp",
   "language": "python",
   "name": "nlp"
  },
  "language_info": {
   "codemirror_mode": {
    "name": "ipython",
    "version": 3
   },
   "file_extension": ".py",
   "mimetype": "text/x-python",
   "name": "python",
   "nbconvert_exporter": "python",
   "pygments_lexer": "ipython3",
   "version": "3.9.7"
  }
 },
 "nbformat": 4,
 "nbformat_minor": 5
}
